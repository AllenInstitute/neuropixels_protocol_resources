{
 "cells": [
  {
   "cell_type": "markdown",
   "metadata": {},
   "source": [
    "# Create Insertion Window\n",
    "\n",
    "**Purpose:** In order to stabilize the brain during the experiment, we use a plastic window with pre-cut holes for the probes to pass through. This notebook will automatically generate a design file that can be used to laser cut a window for a specific set of probes and target locations.\n",
    "\n",
    "**Prerequisites:** \n",
    "1. A calibration file (`calibration_info.py`) with the measured global and local coordinates at each calibration point\n",
    "2. A set of targets (in global coordinate space) for each probe"
   ]
  },
  {
   "cell_type": "code",
   "execution_count": 1,
   "metadata": {},
   "outputs": [],
   "source": [
    "import numpy as np\n",
    "import matplotlib.pyplot as plt\n",
    "%matplotlib inline\n",
    "\n",
    "import ezdxf as dxf\n",
    "from svgpathtools import svg2paths, Line, Arc, CubicBezier\n",
    "\n",
    "import rotations # local Python file\n",
    "import calibration_info # local Python file"
   ]
  },
  {
   "cell_type": "markdown",
   "metadata": {},
   "source": [
    "First, let's set the parameters for our insertion window, along with the target coordinates:"
   ]
  },
  {
   "cell_type": "code",
   "execution_count": 2,
   "metadata": {},
   "outputs": [],
   "source": [
    "# window material thickness (in mm)\n",
    "plastic_window_thickness = 500\n",
    "\n",
    "# glass coverslip thickness (in mm)\n",
    "coverslip_thickness = 475\n",
    "\n",
    "# distance between the bottom surface of the insertion window and the plane of the reticle \n",
    "bottom_surface_height = 1.5\n",
    "\n",
    "# radius of the insertion window holes (in mm)\n",
    "hole_radius = 0.5\n",
    "\n",
    "# name of the output file\n",
    "output_file = 'window.dxf'\n",
    "\n",
    "# window type (single_level or tiered)\n",
    "window_type = 'single_level'\n",
    "\n",
    "# target coordinates (in mm from the center of the reticle)\n",
    "targets = { }\n",
    "targets['probeA'] = [-2,0,0]\n",
    "targets['probeB'] = [-1,1.5,0]\n",
    "targets['probeC'] = [0,2,0]\n",
    "targets['probeD'] = [1.5,1.5,0]\n",
    "targets['probeE'] = [2,0,0]\n",
    "targets['probeF'] = [1,-1,0]\n",
    "\n",
    "# colors for each probe\n",
    "colors = ('red', 'orange', 'brown', 'green', 'blue', 'purple')"
   ]
  },
  {
   "cell_type": "markdown",
   "metadata": {},
   "source": [
    "Now, we load the premade window outline and initialize the DXF drawing we will use to hold the final window design:"
   ]
  },
  {
   "cell_type": "code",
   "execution_count": 3,
   "metadata": {},
   "outputs": [],
   "source": [
    "if window_type == 'single_level':\n",
    "    paths, attributes = svg2paths('window_outline.svg')\n",
    "else:\n",
    "    paths, attributes = svg2paths('window_outline_tiered.svg')\n",
    "\n",
    "drawing = dxf.new()\n",
    "modelspace = drawing.modelspace()"
   ]
  },
  {
   "cell_type": "markdown",
   "metadata": {},
   "source": [
    "Next, we add the features to the DXF drawing (and also plot them using `matplotlib`):"
   ]
  },
  {
   "cell_type": "code",
   "execution_count": 4,
   "metadata": {
    "scrolled": false
   },
   "outputs": [
    {
     "data": {
      "image/png": "[encoded data removed]",
      "text/plain": [
       "<Figure size 216x216 with 1 Axes>"
      ]
     },
     "metadata": {
      "needs_background": "light"
     },
     "output_type": "display_data"
    }
   ],
   "source": [
    "# import the global and local coordinates of our calibration poitns\n",
    "calibrationInfo = calibration_info.getCalibrationInfo()\n",
    "\n",
    "plt.figure(figsize=(3,3))\n",
    "\n",
    "center = [33.4, 29]\n",
    "mm_per_px = 14.61/41.413\n",
    "angles = np.linspace(0,2*np.pi,30)\n",
    "\n",
    "DXFCOLOR = 0\n",
    "DXFLINEWIDTH = 0.01\n",
    "scale_outline = 0.99\n",
    "\n",
    "bottom_surface_probe_distance = (bottom_surface_height + coverslip_thickness/1000)*1.1\n",
    "top_surface_probe_distance = bottom_surface_height + plastic_window_thickness/1000*1.1 # works better than 100%\n",
    "\n",
    "# extract the default window outline\n",
    "for superpath in paths:\n",
    "\n",
    "    for idx, path in enumerate(superpath):\n",
    "\n",
    "        if type(path) == CubicBezier:\n",
    "            p = path.poly()\n",
    "            x = np.linspace(0,1,30)\n",
    "            y = p(x)\n",
    "            x = -(np.real(y) - center[0])*mm_per_px * scale_outline\n",
    "            y = -(np.imag(y) - center[1])*mm_per_px * -1 * scale_outline\n",
    "            vertices = []\n",
    "            for i in range(x.size):\n",
    "                vertices.append((x[i],y[i]))\n",
    "            modelspace.add_lwpolyline(vertices)\n",
    "            plt.plot(x,y,color='b')\n",
    "        else:\n",
    "            if (type(path) != Arc):\n",
    "                x = -(np.array([path[0].real, path[1].real]) - center[0]) * mm_per_px\n",
    "                y = -(np.array([path[0].imag, path[1].imag]) - center[1]) * mm_per_px * -1\n",
    "                modelspace.add_line((x[0],y[0]),(x[1],y[1]))\n",
    "                plt.plot(x, y, 'b')\n",
    "\n",
    "# draw a 1 mm grid (matplotlib only):\n",
    "for x in range(-5,6):\n",
    "    for y in range(-5,6):\n",
    "        plt.plot(x,y,'+',color='0.9')\n",
    "        \n",
    "# compute the locations at which each probe passes through the window, \n",
    "# and create the relevant holes:\n",
    "for key, color in zip(calibrationInfo.keys(), colors):\n",
    "\n",
    "    origin, R = rotations.fit_params(calibrationInfo[key]['global_coords'], \n",
    "                                     calibrationInfo[key]['local_coords'])\n",
    "\n",
    "    target = np.array(targets[key]).T \n",
    "\n",
    "    coords = (np.dot(target + origin, R) + np.array([3,3,3]))\n",
    "    invRotMat = np.linalg.inv(R)\n",
    "    local_pt = coords - np.array([3,3,3])\n",
    "    insertion_pt = np.dot(local_pt, invRotMat) - origin\n",
    "\n",
    "    local_pt_bottom = local_pt + [0,0,(-bottom_surface_probe_distance)]\n",
    "    global_pt_bottom = np.dot(local_pt_bottom, invRotMat) - origin\n",
    "    local_pt_middle = local_pt + [0,0,-np.mean([bottom_surface_probe_distance,top_surface_probe_distance])]\n",
    "    global_pt_middle = np.dot(local_pt_middle, invRotMat) - origin\n",
    "\n",
    "    r = hole_radius\n",
    "    xp = r*np.cos(angles) + global_pt_middle[0]\n",
    "    yp = r*np.sin(angles) + global_pt_middle[1]\n",
    "    plt.plot(xp, yp, '-b')\n",
    "    \n",
    "    modelspace.add_circle(center=(global_pt_middle[0], global_pt_middle[1]),\n",
    "                          radius=r)\n",
    "\n",
    "    local_pt_top = local_pt + [0,0,-top_surface_probe_distance]\n",
    "    global_pt_top = np.dot(local_pt_top, invRotMat) - origin\n",
    "\n",
    "    plt.plot(insertion_pt[0],\n",
    "             insertion_pt[1],\n",
    "             'x',color=color)\n",
    "    \n",
    "    plt.plot([global_pt_bottom[0],\n",
    "              global_pt_top[0]],\n",
    "             [global_pt_bottom[1],\n",
    "              global_pt_top[1]],\n",
    "              color)\n",
    "\n",
    "# draw guidelines indicating the radius of the \n",
    "# glass coverslip\n",
    "r = 5\n",
    "xp = -r*np.cos(angles)\n",
    "yp = -r*np.sin(angles)\n",
    "plt.plot(xp, yp, '--k')\n",
    "modelspace.add_circle(center=(0,0), radius=r)\n",
    "\n",
    "# place holes for agarose\n",
    "r = 2.8 * mm_per_px\n",
    "x_offset = (32.1 - center[0]) * mm_per_px\n",
    "y_offset = - (40.6 - center[1]) * mm_per_px\n",
    "xp = -(r*np.cos(angles) + x_offset)\n",
    "yp = -(r*np.sin(angles) + y_offset)\n",
    "plt.plot(xp, yp, '-b')\n",
    "modelspace.add_circle(center=(-x_offset,-y_offset),\n",
    "                      radius=r)\n",
    "\n",
    "x_offset = (23.4 - center[0]) * mm_per_px\n",
    "y_offset = - (22.2 - center[1]) * mm_per_px\n",
    "xp = -(r*np.cos(angles) + x_offset)\n",
    "yp = -(r*np.sin(angles) + y_offset)\n",
    "plt.plot(xp, yp, '-b')\n",
    "modelspace.add_circle(center=(-x_offset,-y_offset),\n",
    "                      radius=r)\n",
    "\n",
    "# draw center point:\n",
    "plt.plot([0,0],[-0.5,0.5],'-k')\n",
    "plt.plot([-0.5,0.5],[0,0],'-k')\n",
    "plt.gca().invert_xaxis()\n",
    "plt.gca().invert_yaxis()\n",
    "plt.axis('off')\n",
    "\n",
    "plt.xlim([-10,60])\n",
    "plt.ylim([-10,60])\n",
    "plt.axis('equal')\n",
    "\n",
    "# save the DXF drawing to a file:\n",
    "drawing.saveas(output_file)"
   ]
  },
  {
   "cell_type": "markdown",
   "metadata": {
    "collapsed": true
   },
   "source": [
    "As a final step, open the .dxf file in Illustrator or Inkscape, and format it for your preferred laser cutting manufacturer.\n",
    "\n",
    "For Ponoko, this involves setting the line color to blue (R=0, G=0, B=255) and the stroke width to 0.01 mm. You can then make multiple copies of the window and/or add windows for additional mice."
   ]
  },
  {
   "cell_type": "code",
   "execution_count": null,
   "metadata": {},
   "outputs": [],
   "source": []
  }
 ],
 "metadata": {
  "kernelspec": {
   "display_name": "Python 3 (ipykernel)",
   "language": "python",
   "name": "python3"
  },
  "language_info": {
   "codemirror_mode": {
    "name": "ipython",
    "version": 3
   },
   "file_extension": ".py",
   "mimetype": "text/x-python",
   "name": "python",
   "nbconvert_exporter": "python",
   "pygments_lexer": "ipython3",
   "version": "3.9.11"
  }
 },
 "nbformat": 4,
 "nbformat_minor": 1
}
